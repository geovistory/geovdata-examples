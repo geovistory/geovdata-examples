{
 "cells": [
  {
   "cell_type": "markdown",
   "metadata": {},
   "source": [
    "# Get the construction graph of project PTT-Archiv"
   ]
  },
  {
   "cell_type": "markdown",
   "metadata": {},
   "source": [
    "Beware, this version is not working with python3.12!"
   ]
  },
  {
   "cell_type": "code",
   "execution_count": 2,
   "metadata": {},
   "outputs": [
    {
     "name": "stdout",
     "output_type": "stream",
     "text": [
      ">> SPARQL endpoint of Geovistory project 11181465 set.\n"
     ]
    }
   ],
   "source": [
    "# Common imports\n",
    "import numpy as np\n",
    "import math\n",
    "\n",
    "# Library imports\n",
    "import geovdata.kit as kit\n",
    "import geovdata.sparql as sparql\n",
    "from pyvis.network import Network\n",
    "\n",
    "# Global variables\n",
    "eta = kit.Eta()\n",
    "pk_project = 11181465\n",
    "\n",
    "# Connect to a SPARQL endpoint\n",
    "sparql.connect_geovistory(pk_project)"
   ]
  },
  {
   "cell_type": "markdown",
   "metadata": {},
   "source": [
    "What do we want?\n",
    "- A network chart linking all the constructions\n",
    "- Only the constructions should appear on the chart\n",
    "- The constructions nodes should be bigger for those with more links.\n",
    "- We would like the constructions texts to be \"Construction Label [new line] (definition)\""
   ]
  },
  {
   "cell_type": "markdown",
   "metadata": {},
   "source": [
    "Given the specifications, in the end, we need to have a table with 2 columns, in which each line represent a link between 2 constructions ([ontome:c441](https://ontome.net/class/441/namespace/3)) linked by a [ontome:Link](https://ontome.net/class/1380/namespace/3). The content of the columns should be formated string containing the construction's label and definition.\n",
    "\n",
    "Let's make this chart!"
   ]
  },
  {
   "cell_type": "markdown",
   "metadata": {},
   "source": [
    "## Get the data from the SPARQL endpoint"
   ]
  },
  {
   "cell_type": "code",
   "execution_count": 3,
   "metadata": {},
   "outputs": [
    {
     "name": "stdout",
     "output_type": "stream",
     "text": [
      "Shape:  (138, 4) - extract:\n"
     ]
    },
    {
     "data": {
      "text/html": [
       "<div>\n",
       "<style scoped>\n",
       "    .dataframe tbody tr th:only-of-type {\n",
       "        vertical-align: middle;\n",
       "    }\n",
       "\n",
       "    .dataframe tbody tr th {\n",
       "        vertical-align: top;\n",
       "    }\n",
       "\n",
       "    .dataframe thead th {\n",
       "        text-align: right;\n",
       "    }\n",
       "</style>\n",
       "<table border=\"1\" class=\"dataframe\">\n",
       "  <thead>\n",
       "    <tr style=\"text-align: right;\">\n",
       "      <th></th>\n",
       "      <th>constr1Label</th>\n",
       "      <th>constr1Definition</th>\n",
       "      <th>constr2Label</th>\n",
       "      <th>constr2Definition</th>\n",
       "    </tr>\n",
       "  </thead>\n",
       "  <tbody>\n",
       "    <tr>\n",
       "      <th>0</th>\n",
       "      <td>Knotenamt Gümmenen</td>\n",
       "      <td>telephone exchange</td>\n",
       "      <td>Fernknotenamt Mattenhof</td>\n",
       "      <td>Phonehouse structure</td>\n",
       "    </tr>\n",
       "    <tr>\n",
       "      <th>1</th>\n",
       "      <td>Knotenamt Gümmenen</td>\n",
       "      <td>telephone exchange</td>\n",
       "      <td>Endamt Kerzers</td>\n",
       "      <td>telephone exchange</td>\n",
       "    </tr>\n",
       "    <tr>\n",
       "      <th>2</th>\n",
       "      <td>Unterzentrale Bümplitz</td>\n",
       "      <td>telephone exchange</td>\n",
       "      <td>Fernknotenamt Mattenhof</td>\n",
       "      <td>Phonehouse structure</td>\n",
       "    </tr>\n",
       "    <tr>\n",
       "      <th>3</th>\n",
       "      <td>Unterzentrale Bümplitz</td>\n",
       "      <td>telephone exchange</td>\n",
       "      <td>Fernknotenamt Bollwerk</td>\n",
       "      <td>telephone exchange</td>\n",
       "    </tr>\n",
       "    <tr>\n",
       "      <th>4</th>\n",
       "      <td>Unterzentrale Bümplitz</td>\n",
       "      <td>telephone exchange</td>\n",
       "      <td>Quartierzentrale Breitenrain</td>\n",
       "      <td>telephone exchange</td>\n",
       "    </tr>\n",
       "  </tbody>\n",
       "</table>\n",
       "</div>"
      ],
      "text/plain": [
       "             constr1Label  ...     constr2Definition\n",
       "0      Knotenamt Gümmenen  ...  Phonehouse structure\n",
       "1      Knotenamt Gümmenen  ...    telephone exchange\n",
       "2  Unterzentrale Bümplitz  ...  Phonehouse structure\n",
       "3  Unterzentrale Bümplitz  ...    telephone exchange\n",
       "4  Unterzentrale Bümplitz  ...    telephone exchange\n",
       "\n",
       "[5 rows x 4 columns]"
      ]
     },
     "metadata": {},
     "output_type": "display_data"
    }
   ],
   "source": [
    "data = sparql.query(\"\"\"\n",
    "    select ?constr1Label ?constr1Definition ?constr2Label ?constr2Definition\n",
    "    where {\n",
    "        \n",
    "        # Information about (left) construction: constr1\n",
    "        ?constr1 a ontome:c441 . # Correct class\n",
    "        ?constr1 rdfs:label ?constr1Label . # Label\n",
    "        ?constr1 ontome:p1762 / ontome:p1864 ?constr1Definition . # Definition\n",
    "               \n",
    "        # Information about (right) construction: constr2\n",
    "        ?constr2 a ontome:c441 . # Correct class\n",
    "        ?constr2 rdfs:label ?constr2Label . # Label\n",
    "        ?constr2 ontome:p1762 / ontome:p1864 ?constr2Definition . # Definition\n",
    "\n",
    "        # Express how constructions are related\n",
    "        ?constr1 ontome:p2320i / ontome:p2320 ?constr2 . # Through a link\n",
    "               \n",
    "        # But remove Link to itself\n",
    "        filter(?constr1 != ?constr2)\n",
    "    }\n",
    "\"\"\")\n",
    "\n",
    "kit.infos(data)"
   ]
  },
  {
   "cell_type": "markdown",
   "metadata": {},
   "source": [
    "## Format strings"
   ]
  },
  {
   "cell_type": "markdown",
   "metadata": {},
   "source": [
    "Now that we have all needed information, let's create our formated string.\n",
    "\n",
    "It should be: \"Label [newline] (definition)\""
   ]
  },
  {
   "cell_type": "code",
   "execution_count": 4,
   "metadata": {},
   "outputs": [
    {
     "name": "stdout",
     "output_type": "stream",
     "text": [
      "Shape:  (138, 2) - extract:\n"
     ]
    },
    {
     "data": {
      "text/html": [
       "<div>\n",
       "<style scoped>\n",
       "    .dataframe tbody tr th:only-of-type {\n",
       "        vertical-align: middle;\n",
       "    }\n",
       "\n",
       "    .dataframe tbody tr th {\n",
       "        vertical-align: top;\n",
       "    }\n",
       "\n",
       "    .dataframe thead th {\n",
       "        text-align: right;\n",
       "    }\n",
       "</style>\n",
       "<table border=\"1\" class=\"dataframe\">\n",
       "  <thead>\n",
       "    <tr style=\"text-align: right;\">\n",
       "      <th></th>\n",
       "      <th>constr1</th>\n",
       "      <th>constr2</th>\n",
       "    </tr>\n",
       "  </thead>\n",
       "  <tbody>\n",
       "    <tr>\n",
       "      <th>0</th>\n",
       "      <td>Knotenamt Gümmenen\\n(telephone exchange)</td>\n",
       "      <td>Fernknotenamt Mattenhof(Phonehouse structure)</td>\n",
       "    </tr>\n",
       "    <tr>\n",
       "      <th>1</th>\n",
       "      <td>Knotenamt Gümmenen\\n(telephone exchange)</td>\n",
       "      <td>Endamt Kerzers(telephone exchange)</td>\n",
       "    </tr>\n",
       "    <tr>\n",
       "      <th>2</th>\n",
       "      <td>Unterzentrale Bümplitz\\n(telephone exchange)</td>\n",
       "      <td>Fernknotenamt Mattenhof(Phonehouse structure)</td>\n",
       "    </tr>\n",
       "    <tr>\n",
       "      <th>3</th>\n",
       "      <td>Unterzentrale Bümplitz\\n(telephone exchange)</td>\n",
       "      <td>Fernknotenamt Bollwerk(telephone exchange)</td>\n",
       "    </tr>\n",
       "    <tr>\n",
       "      <th>4</th>\n",
       "      <td>Unterzentrale Bümplitz\\n(telephone exchange)</td>\n",
       "      <td>Quartierzentrale Breitenrain(telephone exchange)</td>\n",
       "    </tr>\n",
       "  </tbody>\n",
       "</table>\n",
       "</div>"
      ],
      "text/plain": [
       "                                        constr1                                           constr2\n",
       "0      Knotenamt Gümmenen\\n(telephone exchange)     Fernknotenamt Mattenhof(Phonehouse structure)\n",
       "1      Knotenamt Gümmenen\\n(telephone exchange)                Endamt Kerzers(telephone exchange)\n",
       "2  Unterzentrale Bümplitz\\n(telephone exchange)     Fernknotenamt Mattenhof(Phonehouse structure)\n",
       "3  Unterzentrale Bümplitz\\n(telephone exchange)        Fernknotenamt Bollwerk(telephone exchange)\n",
       "4  Unterzentrale Bümplitz\\n(telephone exchange)  Quartierzentrale Breitenrain(telephone exchange)"
      ]
     },
     "metadata": {},
     "output_type": "display_data"
    }
   ],
   "source": [
    "# Format label for construction 1\n",
    "data['constr1'] = data['constr1Label'] + '\\n(' + data['constr1Definition'] + ')'\n",
    "\n",
    "# Format label for construction 2\n",
    "data['constr2'] = data['constr2Label'] + '(' + data['constr2Definition'] + ')'\n",
    "\n",
    "# Remove old columns\n",
    "data = data[['constr1', 'constr2']]\n",
    "\n",
    "kit.infos(data)"
   ]
  },
  {
   "cell_type": "markdown",
   "metadata": {},
   "source": [
    "## Display the chart"
   ]
  },
  {
   "cell_type": "code",
   "execution_count": 5,
   "metadata": {},
   "outputs": [
    {
     "name": "stdout",
     "output_type": "stream",
     "text": [
      "./construction-graph.html\n"
     ]
    }
   ],
   "source": [
    "# Create the network\n",
    "network = Network(\n",
    "    height=900, # In pixels\n",
    "    width=1800, # In pixels\n",
    "    notebook=True, \n",
    "    cdn_resources=\"in_line\", \n",
    "    select_menu=True\n",
    ")\n",
    "\n",
    "# All the nodes\n",
    "nodes = np.unique(data['constr1'].tolist() + data['constr2'].tolist())\n",
    "\n",
    "# Node sizes\n",
    "sizes = []\n",
    "for node in nodes:\n",
    "    nb_constr1 = (data['constr1'] == node).sum()\n",
    "    nb_constr2 = (data['constr2'] == node).sum()\n",
    "    sizes.append(10 * math.sqrt((nb_constr1 + nb_constr2) / (2 * math.pi)))\n",
    "\n",
    "# Colors \n",
    "colors = [\"#9c0ef3\"] * len(nodes)\n",
    "\n",
    "# Add the nodes\n",
    "network.add_nodes(nodes, size=sizes, color=colors)\n",
    "\n",
    "# All the edges\n",
    "edges = []\n",
    "for _, row in data.iterrows():\n",
    "    edges.append((row['constr1'], row['constr2']))\n",
    "\n",
    "# Add the edges\n",
    "network.add_edges(edges)\n",
    "\n",
    "# Set Chart options\n",
    "network.toggle_physics(True)\n",
    "network.show_buttons(filter_=['physics'])\n",
    "\n",
    "# Save the file (automatic open)\n",
    "path = network.show('./construction-graph.html', local=True, notebook=False)"
   ]
  },
  {
   "cell_type": "markdown",
   "metadata": {},
   "source": [
    "You can now open the just created html file to see your graph."
   ]
  }
 ],
 "metadata": {
  "kernelspec": {
   "display_name": "Python 3",
   "language": "python",
   "name": "python3"
  },
  "language_info": {
   "codemirror_mode": {
    "name": "ipython",
    "version": 3
   },
   "file_extension": ".py",
   "mimetype": "text/x-python",
   "name": "python",
   "nbconvert_exporter": "python",
   "pygments_lexer": "ipython3",
   "version": "3.10.13"
  }
 },
 "nbformat": 4,
 "nbformat_minor": 2
}
